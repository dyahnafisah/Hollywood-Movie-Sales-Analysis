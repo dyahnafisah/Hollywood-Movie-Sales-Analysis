{
 "cells": [
  {
   "cell_type": "markdown",
   "metadata": {},
   "source": [
    "We now want to use the variables present in the data to perform predictive model on the movie sales."
   ]
  },
  {
   "cell_type": "markdown",
   "metadata": {},
   "source": [
    "# Data Extraction"
   ]
  },
  {
   "cell_type": "code",
   "execution_count": 1,
   "metadata": {},
   "outputs": [],
   "source": [
    "# importing the necessary packages\n",
    "import pandas as pd\n",
    "import numpy as np\n",
    "import matplotlib.pyplot as plt\n",
    "import seaborn as sb\n",
    "import warnings\n",
    "import calendar\n",
    "warnings.filterwarnings(\"ignore\")\n",
    "sb.set()\n",
    "\n",
    "# importing data\n",
    "df = pd.read_csv(\"Highest Holywood Grossing Movies.csv\").iloc[:,1:]\n",
    "\n",
    "# removing null values\n",
    "df2 = df[df['Release Date'].notna()]\n",
    "\n",
    "# converting string to datetime\n",
    "df2['Release Date'] = pd.to_datetime(df2['Release Date'], format='%B %d, %Y')\n",
    "\n",
    "# extracting the information from the date\n",
    "df2['Year'] = pd.DatetimeIndex(df2['Release Date']).year\n",
    "df2['Quarter'] = pd.DatetimeIndex(df2['Release Date']).quarter\n",
    "df2['Month'] = pd.DatetimeIndex(df2['Release Date']).month\n",
    "\n",
    "# splitting the genres to different columns\n",
    "genreList = pd.DataFrame(df2[\"Genre\"].str.strip('[]').str.split(\", \").explode().unique())[0].str.strip(\"''\")\n",
    "for genre in genreList:\n",
    "    df2.loc[df2['Genre'].str.contains(genre), genre] = 1\n",
    "    df2.loc[df2['Genre'].str.contains(genre)==False, genre] = 0\n",
    "    \n",
    "# converting the movie runtime into minutes\n",
    "df2['Runtime (mins)'] = 0\n",
    "df2['Runtime (mins)'] += df['Movie Runtime'].apply(lambda x: int(x.split(\" hr\")[0]))*60\n",
    "df2.loc[df2['Movie Runtime'].str.contains('min'), 'Runtime (mins)'] += df.loc[df['Movie Runtime'].str.contains(\"min\")]['Movie Runtime'].apply(lambda x: int(x.split(\"hr \")[1].split(\" min\")[0]))"
   ]
  },
  {
   "cell_type": "markdown",
   "metadata": {},
   "source": [
    "# Building Machine Learning Models"
   ]
  },
  {
   "cell_type": "code",
   "execution_count": 2,
   "metadata": {},
   "outputs": [],
   "source": [
    "# importing the necessary libraries\n",
    "from sklearn.linear_model import LinearRegression\n",
    "from sklearn.model_selection import train_test_split\n",
    "from sklearn.metrics import mean_squared_error\n",
    "from sklearn.metrics import r2_score\n",
    "from sklearn.ensemble import RandomForestRegressor\n",
    "from sklearn.inspection import permutation_importance"
   ]
  },
  {
   "cell_type": "code",
   "execution_count": 3,
   "metadata": {},
   "outputs": [
    {
     "data": {
      "text/plain": [
       "Index(['Title', 'Movie Info', 'Distributor', 'Release Date',\n",
       "       'Domestic Sales (in $)', 'International Sales (in $)',\n",
       "       'World Sales (in $)', 'Genre', 'Movie Runtime', 'License', 'Year',\n",
       "       'Quarter', 'Month', 'Action', 'Adventure', 'Sci-Fi', 'Drama', 'Fantasy',\n",
       "       'Romance', 'Animation', 'Family', 'Musical', 'Crime', 'Thriller',\n",
       "       'Comedy', 'War', 'Biography', 'Mystery', 'Horror', 'Sport', 'Music',\n",
       "       'History', 'Western', 'Documentary', 'Runtime (mins)'],\n",
       "      dtype='object')"
      ]
     },
     "execution_count": 3,
     "metadata": {},
     "output_type": "execute_result"
    }
   ],
   "source": [
    "# displaying the column names\n",
    "df2.columns"
   ]
  },
  {
   "cell_type": "code",
   "execution_count": 4,
   "metadata": {
    "scrolled": false
   },
   "outputs": [
    {
     "data": {
      "text/plain": [
       "Year                int64\n",
       "Quarter             int64\n",
       "Month               int64\n",
       "Action            float64\n",
       "Adventure         float64\n",
       "Sci-Fi            float64\n",
       "Drama             float64\n",
       "Fantasy           float64\n",
       "Romance           float64\n",
       "Animation         float64\n",
       "Family            float64\n",
       "Musical           float64\n",
       "Crime             float64\n",
       "Thriller          float64\n",
       "Comedy            float64\n",
       "War               float64\n",
       "Biography         float64\n",
       "Mystery           float64\n",
       "Horror            float64\n",
       "Sport             float64\n",
       "Music             float64\n",
       "History           float64\n",
       "Western           float64\n",
       "Documentary       float64\n",
       "Runtime (mins)    float64\n",
       "dtype: object"
      ]
     },
     "execution_count": 4,
     "metadata": {},
     "output_type": "execute_result"
    }
   ],
   "source": [
    "# keeping only numeric columns (or the columns encoded into binary values)\n",
    "X = df2.drop(['Title', 'Movie Info', 'Distributor', 'Release Date', 'Domestic Sales (in $)', 'International Sales (in $)', 'World Sales (in $)', 'Genre', 'Movie Runtime', 'License'], axis=1)\n",
    "X.dtypes"
   ]
  },
  {
   "cell_type": "code",
   "execution_count": 5,
   "metadata": {},
   "outputs": [],
   "source": [
    "# choosing the world sales as the response variable\n",
    "y = df2['World Sales (in $)']"
   ]
  },
  {
   "cell_type": "code",
   "execution_count": 6,
   "metadata": {},
   "outputs": [],
   "source": [
    "# performing the train test split\n",
    "X_train, X_test, y_train, y_test = train_test_split(X, y, test_size = 0.2, random_state = 21)"
   ]
  },
  {
   "cell_type": "markdown",
   "metadata": {},
   "source": [
    "## Feature Importance using Random Forest"
   ]
  },
  {
   "cell_type": "code",
   "execution_count": 7,
   "metadata": {
    "scrolled": true
   },
   "outputs": [],
   "source": [
    "# Define a function to apply Random Forest model\n",
    "def train_random_forest(n, m):\n",
    "    # Create the Random Forest object\n",
    "    rforest = RandomForestRegressor(n_estimators = n,  # n_estimators denote number of trees\n",
    "                                     max_depth = m)       # set the maximum depth of each tree\n",
    "\n",
    "    # Fit Random Forest on Train Data\n",
    "    rforest.fit(X_train, y_train)\n",
    "\n",
    "    # Predict Legendary values corresponding to Total\n",
    "    y_train_pred = rforest.predict(X_train)\n",
    "    y_test_pred = rforest.predict(X_test)\n",
    "\n",
    "    return [r2_score(y_train_pred, y_train), r2_score(y_test_pred, y_test)]"
   ]
  },
  {
   "cell_type": "code",
   "execution_count": 8,
   "metadata": {
    "scrolled": true
   },
   "outputs": [],
   "source": [
    "# Iterations for different combination of n_estimators and max_depth\n",
    "randomForestResult = []\n",
    "nEstimators = list(range(10, 100+1, 10))\n",
    "maxDepths = list(range(1, 15+1, 1))\n",
    "for n in nEstimators:\n",
    "    for m in maxDepths:\n",
    "        randomForestResult.append(train_random_forest(n, m))"
   ]
  },
  {
   "cell_type": "code",
   "execution_count": 9,
   "metadata": {},
   "outputs": [],
   "source": [
    "# store the scores into a dataframe\n",
    "randForestResult = pd.DataFrame(columns=['n_estimators', 'max_depth', 'train_score', 'test_score'])\n",
    "randomForestResultArray = np.array(randomForestResult)\n",
    "i = 0\n",
    "for n in nEstimators:\n",
    "    for m in maxDepths:\n",
    "        new_row = pd.DataFrame([[n, m, randomForestResultArray[i,0], randomForestResultArray[i,1]]], columns=randForestResult.columns)\n",
    "        randForestResult = randForestResult.append(new_row, ignore_index = True)\n",
    "        i += 1"
   ]
  },
  {
   "cell_type": "code",
   "execution_count": null,
   "metadata": {},
   "outputs": [],
   "source": [
    "# Display the result of train score in heatmap\n",
    "fig, ax = plt.subplots(figsize=(15,6))\n",
    "heatmapDf = pd.pivot_table(randForestResult, index=['n_estimators'], columns=['max_depth'], values=['train_score'])\n",
    "sb.heatmap(heatmapDf, annot=True, fmt='.3g', cmap='Blues')\n",
    "ax.set_title('Train Score', fontsize = 20)\n",
    "plt.show()"
   ]
  },
  {
   "cell_type": "code",
   "execution_count": null,
   "metadata": {},
   "outputs": [],
   "source": [
    "# Display the result of test score in heatmap\n",
    "fig, ax = plt.subplots(figsize=(15,6))\n",
    "heatmapDf = pd.pivot_table(randForestResult, index=['n_estimators'], columns=['max_depth'], values=['test_score'])\n",
    "sb.heatmap(heatmapDf, annot=True, fmt='.3g', cmap='Blues')\n",
    "ax.set_title('Test Score', fontsize = 20)\n",
    "plt.show()"
   ]
  },
  {
   "cell_type": "markdown",
   "metadata": {},
   "source": [
    "We can see that the model performs quite poorly in the test set. We will however proceed to choose the one with the highest r2 score so far, which is n_estimators = 20 with max_depth = 12 where the r2 score = -0.11."
   ]
  },
  {
   "cell_type": "code",
   "execution_count": null,
   "metadata": {},
   "outputs": [],
   "source": [
    "rf = RandomForestRegressor(n_estimators=20, max_depth=12)\n",
    "rf.fit(X_train, y_train)"
   ]
  },
  {
   "cell_type": "code",
   "execution_count": null,
   "metadata": {},
   "outputs": [],
   "source": [
    "y_train_pred = rf.predict(X_train)\n",
    "print(r2_score(y_train_pred, y_train))\n",
    "y_test_pred = rf.predict(X_test)\n",
    "print(r2_score(y_test_pred, y_test))"
   ]
  },
  {
   "cell_type": "markdown",
   "metadata": {},
   "source": [
    "#### Feature importance based on mean decrease in impurity"
   ]
  },
  {
   "cell_type": "code",
   "execution_count": null,
   "metadata": {},
   "outputs": [],
   "source": [
    "fig, ax = plt.subplots(figsize=(10,6))\n",
    "sorted_idx = rf.feature_importances_.argsort()\n",
    "plt.barh(X.columns[sorted_idx], rf.feature_importances_[sorted_idx])\n",
    "plt.show()"
   ]
  },
  {
   "cell_type": "markdown",
   "metadata": {},
   "source": [
    "#### Feature importance based on feature permutation"
   ]
  },
  {
   "cell_type": "code",
   "execution_count": null,
   "metadata": {},
   "outputs": [],
   "source": [
    "perm_importance = permutation_importance(rf, X_test, y_test)"
   ]
  },
  {
   "cell_type": "code",
   "execution_count": null,
   "metadata": {},
   "outputs": [],
   "source": [
    "fig, ax = plt.subplots(figsize=(10,6))\n",
    "sorted_idx = perm_importance.importances_mean.argsort()\n",
    "plt.barh(X.columns[sorted_idx], perm_importance.importances_mean[sorted_idx])\n",
    "plt.xlabel(\"Permutation Importance\")\n",
    "plt.show()"
   ]
  },
  {
   "cell_type": "markdown",
   "metadata": {},
   "source": [
    "#### Feature importance based on SHAP values"
   ]
  },
  {
   "cell_type": "code",
   "execution_count": null,
   "metadata": {},
   "outputs": [],
   "source": [
    "import shap"
   ]
  },
  {
   "cell_type": "code",
   "execution_count": null,
   "metadata": {},
   "outputs": [],
   "source": [
    "explainer = shap.TreeExplainer(rf)\n",
    "shap_values = explainer.shap_values(X_test)"
   ]
  },
  {
   "cell_type": "code",
   "execution_count": null,
   "metadata": {},
   "outputs": [],
   "source": [
    "shap.summary_plot(shap_values, X_test, plot_type=\"bar\")"
   ]
  },
  {
   "cell_type": "code",
   "execution_count": null,
   "metadata": {},
   "outputs": [],
   "source": [
    "shap.summary_plot(shap_values, X_test)"
   ]
  },
  {
   "cell_type": "markdown",
   "metadata": {},
   "source": [
    "All three models agree that Adventure, Runtime (mins), and Year are one of the most important features in predicting the World Sales. We will now try to make use of these features to build our model."
   ]
  },
  {
   "cell_type": "markdown",
   "metadata": {},
   "source": [
    "## Building new models with selected predictors"
   ]
  },
  {
   "cell_type": "code",
   "execution_count": null,
   "metadata": {},
   "outputs": [],
   "source": [
    "X2 = X[['Adventure', 'Runtime (mins)', 'Year']]\n",
    "X2.columns"
   ]
  },
  {
   "cell_type": "code",
   "execution_count": null,
   "metadata": {},
   "outputs": [],
   "source": [
    "X_train, X_test, y_train, y_test = train_test_split(X2, y, test_size = 0.2, random_state = 30)"
   ]
  },
  {
   "cell_type": "markdown",
   "metadata": {},
   "source": [
    "### Linear Regression"
   ]
  },
  {
   "cell_type": "code",
   "execution_count": null,
   "metadata": {
    "scrolled": true
   },
   "outputs": [],
   "source": [
    "#linear regression\n",
    "lm = LinearRegression() #our 6th model\n",
    "lm.fit(X_train, y_train)\n",
    "y_train_pred = lm.predict(X_train)\n",
    "y_test_pred = lm.predict(X_test)\n",
    "\n",
    "RMSE = np.sqrt(mean_squared_error(y_train, y_train_pred))\n",
    "print(\"RMSE train:\", RMSE)\n",
    "RMSE = np.sqrt(mean_squared_error(y_test, y_test_pred))\n",
    "print(\"RMSE test:\", RMSE)\n",
    "print()\n",
    "\n",
    "print(\"R Square train:\", r2_score(y_train, y_train_pred))\n",
    "print(\"R Square test:\", r2_score(y_test, y_test_pred))"
   ]
  },
  {
   "cell_type": "markdown",
   "metadata": {},
   "source": [
    "### Random Forest"
   ]
  },
  {
   "cell_type": "code",
   "execution_count": null,
   "metadata": {},
   "outputs": [],
   "source": [
    "import sklearn.metrics as metrics\n",
    "from sklearn.ensemble import RandomForestRegressor\n",
    "\n",
    "rf = RandomForestRegressor(n_estimators=20, max_depth=12)\n",
    "rf.fit(X_train, y_train)"
   ]
  },
  {
   "cell_type": "code",
   "execution_count": null,
   "metadata": {},
   "outputs": [],
   "source": [
    "y_train_pred = rf.predict(X_train)\n",
    "y_test_pred = rf.predict(X_test)\n",
    "\n",
    "RMSE = np.sqrt(mean_squared_error(y_train, y_train_pred))\n",
    "print(\"RMSE train:\", RMSE)\n",
    "RMSE = np.sqrt(mean_squared_error(y_test, y_test_pred))\n",
    "print(\"RMSE test:\", RMSE)\n",
    "print()\n",
    "\n",
    "print(\"R Square train:\", r2_score(y_train, y_train_pred))\n",
    "print(\"R Square test:\", r2_score(y_test, y_test_pred))"
   ]
  },
  {
   "cell_type": "markdown",
   "metadata": {},
   "source": [
    "### Gradient Boosting Regressor"
   ]
  },
  {
   "cell_type": "code",
   "execution_count": null,
   "metadata": {},
   "outputs": [],
   "source": [
    "X_train, X_test, y_train, y_test = train_test_split(X2.values, y.values, test_size = 0.3, random_state = 30)"
   ]
  },
  {
   "cell_type": "code",
   "execution_count": null,
   "metadata": {},
   "outputs": [],
   "source": [
    "from sklearn import ensemble\n",
    "\n",
    "params = {'n_estimators':50, 'max_depth':12, 'min_samples_split':2,\n",
    "         'learning_rate':0.01, 'loss':'ls'}\n",
    "clf = ensemble.GradientBoostingRegressor(**params)\n",
    "clf.fit(X_train, y_train)\n",
    "predictions2 = np.expand_dims(clf.predict(X_train), axis=1)\n",
    "RMSE_train = np.sqrt(mean_squared_error(y_train, predictions2))\n",
    "training_score = clf.score(X_train, y_train)\n",
    "\n",
    "predictions2 = np.expand_dims(clf.predict(X_test), axis=1)\n",
    "RMSE_test = np.sqrt(mean_squared_error(y_test, predictions2))\n",
    "test_score = clf.score(X_test, y_test)\n",
    "\n",
    "print(\"RMSE train:\", RMSE_train)\n",
    "print(\"RMSE test:\", RMSE_test)\n",
    "print()\n",
    "\n",
    "print(\"R Square train:\", training_score)\n",
    "print(\"R Square test:\", test_score)"
   ]
  },
  {
   "cell_type": "markdown",
   "metadata": {},
   "source": [
    "We can see that Random Forest performs worst compared to the Linear Regression and Gradient Boost Regression. This might be caused the inability of Random Forest to extrapolate outside the train data set. We can see the plots below to illustrate this problem."
   ]
  },
  {
   "attachments": {
    "image.png": {
     "image/png": "[encoded data removed]"
    }
   },
   "cell_type": "markdown",
   "metadata": {},
   "source": [
    "![image.png](attachment:image.png)"
   ]
  },
  {
   "cell_type": "markdown",
   "metadata": {},
   "source": [
    "## Trying out different approach: convert World Sales into a binary variable"
   ]
  },
  {
   "cell_type": "markdown",
   "metadata": {},
   "source": [
    "In this section, we will be using Neural Network to predict the goodness of the movie sales. The metric is such that:\n",
    "- World sales is considered good (1) when it is larger than the median\n",
    "- World sales is considered bad (0) when it is equal to or smaller than the median"
   ]
  },
  {
   "cell_type": "markdown",
   "metadata": {},
   "source": [
    "### Using all numerical and encoded variables as predictors"
   ]
  },
  {
   "cell_type": "code",
   "execution_count": null,
   "metadata": {},
   "outputs": [],
   "source": [
    "# check the data shape\n",
    "limit = df2['World Sales (in $)'].median()\n",
    "print(df2.loc[df2['World Sales (in $)']>limit].shape)\n",
    "print(df2.loc[df2['World Sales (in $)']<=limit].shape)"
   ]
  },
  {
   "cell_type": "markdown",
   "metadata": {},
   "source": [
    "We can see that the data is perfectly balanced for the two categories"
   ]
  },
  {
   "cell_type": "code",
   "execution_count": null,
   "metadata": {
    "scrolled": false
   },
   "outputs": [],
   "source": [
    "# creating the response variable\n",
    "df2['Sales Goodness'] = 0\n",
    "df2.loc[df2['World Sales (in $)']>limit, 'Sales Goodness'] = 1\n",
    "df2.head()"
   ]
  },
  {
   "cell_type": "code",
   "execution_count": null,
   "metadata": {},
   "outputs": [],
   "source": [
    "# keeping only numeric columns (or the columns encoded into binary values)\n",
    "X = pd.DataFrame(df2.drop(['Title', 'Movie Info', 'Distributor', 'Release Date', 'Domestic Sales (in $)', 'International Sales (in $)', 'World Sales (in $)', 'Genre', 'Movie Runtime', 'License'], axis=1))\n",
    "X.dtypes\n",
    "\n",
    "# choosing the world sales as the response variable\n",
    "y = pd.DataFrame(df2['Sales Goodness'])\n",
    "\n",
    "# performing the train test split\n",
    "X_train, X_test, y_train, y_test = train_test_split(X, y, test_size = 0.25, random_state = 32)"
   ]
  },
  {
   "cell_type": "code",
   "execution_count": null,
   "metadata": {},
   "outputs": [],
   "source": [
    "# Check the sample sizes\n",
    "print(\"Train Set :\", X_train.shape, y_train.shape)\n",
    "print(\"Test Set  :\", X_test.shape, y_test.shape)"
   ]
  },
  {
   "cell_type": "code",
   "execution_count": null,
   "metadata": {},
   "outputs": [],
   "source": [
    "# Import the PyTorch essentials\n",
    "import torch\n",
    "\n",
    "# Convert the datasets to Tensors\n",
    "X_train_tensor = torch.from_numpy(X_train.values).type(torch.float32)         # data type float\n",
    "y_train_tensor = torch.from_numpy(y_train.values).type(torch.LongTensor)      # data type long\n",
    "X_test_tensor = torch.from_numpy(X_test.values).type(torch.float32)           # data type float\n",
    "y_test_tensor = torch.from_numpy(y_test.values).type(torch.LongTensor)        # data type long\n",
    "\n",
    "# Check the tensor format of data\n",
    "print(\"Tensor Predictor : \\t\", X_train_tensor.shape)\n",
    "print(\"Tensor Response : \\t\", y_train_tensor.shape)"
   ]
  },
  {
   "cell_type": "code",
   "execution_count": null,
   "metadata": {
    "scrolled": true
   },
   "outputs": [],
   "source": [
    "# Define the layers\n",
    "input_size = 26        # Dimension of Predictors\n",
    "output_size = 2        # Dimension of Response\n",
    "\n",
    "# Build a feed-forward network\n",
    "neuralNet = torch.nn.Sequential(torch.nn.Linear(input_size, output_size),\n",
    "                                torch.nn.LogSoftmax(dim = 1))\n",
    "\n",
    "# Print the NeuralNet structure\n",
    "print(neuralNet)\n",
    "print()\n",
    "\n",
    "# Print the NeuralNet parameters\n",
    "list(neuralNet.parameters())"
   ]
  },
  {
   "cell_type": "code",
   "execution_count": null,
   "metadata": {},
   "outputs": [],
   "source": [
    "# Set the Optimization Criterion\n",
    "criterion = torch.nn.CrossEntropyLoss()\n",
    "\n",
    "# Set the Optimization Technique\n",
    "learning_rate = 0.01\n",
    "optimizer = torch.optim.SGD(neuralNet.parameters(), lr = learning_rate)"
   ]
  },
  {
   "cell_type": "code",
   "execution_count": null,
   "metadata": {},
   "outputs": [],
   "source": [
    "# Clear Optimizer Gradients\n",
    "optimizer.zero_grad()\n",
    "        \n",
    "# Forward Propagation for Prediction\n",
    "outputs = neuralNet(X_train_tensor)\n",
    "print(\"Predictions\\n\", outputs)\n",
    "print()\n",
    "\n",
    "# Calculate the Loss\n",
    "loss = criterion(outputs, y_train_tensor.squeeze())\n",
    "print(\"Prediction Loss : \\t\", loss)"
   ]
  },
  {
   "cell_type": "code",
   "execution_count": null,
   "metadata": {},
   "outputs": [],
   "source": [
    "# Check the Weights\n",
    "print('Weights before Back Propagation')\n",
    "print()\n",
    "print(neuralNet[0].weight)\n",
    "print()\n",
    "\n",
    "# Back Propagation for Gradients\n",
    "loss.backward()"
   ]
  },
  {
   "cell_type": "code",
   "execution_count": null,
   "metadata": {},
   "outputs": [],
   "source": [
    "# Check the Gradients\n",
    "print('Gradients from Back Propagation')\n",
    "print()\n",
    "print(neuralNet[0].weight.grad)\n",
    "print()"
   ]
  },
  {
   "cell_type": "code",
   "execution_count": null,
   "metadata": {},
   "outputs": [],
   "source": [
    "# Update Parameters by Gradients\n",
    "optimizer.step()\n",
    "\n",
    "# Check the Weights\n",
    "print('Weights after Back Propagation')\n",
    "print()\n",
    "print(neuralNet[0].weight)"
   ]
  },
  {
   "cell_type": "code",
   "execution_count": null,
   "metadata": {},
   "outputs": [],
   "source": [
    "# Forward Propagation for Prediction\n",
    "outputs = neuralNet(X_train_tensor)\n",
    "print(\"Predictions\\n\", outputs)\n",
    "print()\n",
    "\n",
    "# Calculate the Loss\n",
    "loss = criterion(outputs, y_train_tensor.squeeze())\n",
    "print(\"Prediction Loss : \\t\", loss)"
   ]
  },
  {
   "cell_type": "code",
   "execution_count": null,
   "metadata": {},
   "outputs": [],
   "source": [
    "# Accuracy on Train Set\n",
    "outputs = neuralNet(X_train_tensor)\n",
    "\n",
    "# Find the maximum probability class\n",
    "_, y_pred_train = torch.max(outputs, 1)\n",
    "\n",
    "# Check if they match the actual class\n",
    "correct = (y_pred_train == y_train_tensor.squeeze()).sum().item()\n",
    "print(\"Classification Accuracy : \\t\", correct / len(y_train_tensor))"
   ]
  },
  {
   "cell_type": "code",
   "execution_count": null,
   "metadata": {
    "scrolled": true
   },
   "outputs": [],
   "source": [
    "# Accuracy on Test Set\n",
    "outputs = neuralNet(X_test_tensor)\n",
    "\n",
    "# Find the maximum probability class\n",
    "_, y_pred_test = torch.max(outputs, 1)\n",
    "\n",
    "# Check if they match the actual class\n",
    "correct = (y_pred_test == y_test_tensor.squeeze()).sum().item()\n",
    "print(\"Classification Accuracy : \\t\", correct / len(y_test_tensor))"
   ]
  },
  {
   "cell_type": "markdown",
   "metadata": {},
   "source": [
    "### Train through iteration"
   ]
  },
  {
   "cell_type": "code",
   "execution_count": null,
   "metadata": {
    "scrolled": true
   },
   "outputs": [],
   "source": [
    "# Define the layers\n",
    "input_size = 26      # Dimension of Predictors\n",
    "output_size = 2        # Dimension of Response\n",
    "\n",
    "# Build a feed-forward network\n",
    "neuralNet = torch.nn.Sequential(torch.nn.Linear(input_size, output_size),\n",
    "                                torch.nn.LogSoftmax(dim = 1))\n",
    "\n",
    "# Print the NeuralNet structure\n",
    "print(neuralNet)"
   ]
  },
  {
   "cell_type": "code",
   "execution_count": null,
   "metadata": {},
   "outputs": [],
   "source": [
    "# Time the Training\n",
    "import time\n",
    "start = time.time()\n",
    "\n",
    "# Set Hyperparameters\n",
    "batch_size = 100\n",
    "num_epochs = 20\n",
    "\n",
    "# Set the Optimization Criterion\n",
    "criterion = torch.nn.CrossEntropyLoss()\n",
    "\n",
    "# Set Learning Parameter\n",
    "learning_rate = 0.05\n",
    "\n",
    "\n",
    "# Iterate for number of Epochs\n",
    "for epoch in range(1, num_epochs + 1):\n",
    "    \n",
    "    # Create a new optimizer at the start of each epoch\n",
    "    # Input the learning rate specified for this epoch\n",
    "    optimizer = torch.optim.SGD(neuralNet.parameters(), lr = learning_rate)\n",
    "    \n",
    "    # Keep tab of accuracy\n",
    "    running_loss = 0\n",
    "    num_batches = 0\n",
    "    correct = 0\n",
    "    \n",
    "    # Count the Number of Batches\n",
    "    shuffled_indices = torch.randperm(len(X_train.index))\n",
    " \n",
    "    for idx in range(0, len(X_train.index), batch_size):\n",
    "        \n",
    "        # Extract the data for the batch\n",
    "        batch_indices = shuffled_indices[idx : idx + batch_size]\n",
    "        X_batch_tensor = X_train_tensor[batch_indices]\n",
    "        y_batch_tensor = y_train_tensor[batch_indices]\n",
    "        \n",
    "        # Clear Optimizer Gradients\n",
    "        optimizer.zero_grad()\n",
    "\n",
    "        # Forward Propagation for Prediction\n",
    "        outputs = neuralNet(X_batch_tensor)\n",
    "\n",
    "        # Calculate the Loss\n",
    "        loss = criterion(outputs, y_batch_tensor.squeeze())\n",
    "        \n",
    "        # Calculate correct predictions\n",
    "        _, y_pred_batch = torch.max(outputs, 1)\n",
    "        correct += (y_pred_batch == y_batch_tensor.squeeze()).sum().item()\n",
    "\n",
    "        # Back Propagation for Gradients\n",
    "        loss.backward()\n",
    "\n",
    "        # Update Parameters by Gradients\n",
    "        optimizer.step()\n",
    "        \n",
    "        # Keeping tab of accuracy\n",
    "        running_loss += loss.detach().item()\n",
    "        num_batches += 1\n",
    "    \n",
    "    # At the end of an Epoch\n",
    "    total_loss = running_loss / num_batches\n",
    "    total_acc = correct / len(X_train.index)\n",
    "    elapsed_time = time.time() - start\n",
    "    \n",
    "    print(f\"Epoch {epoch:3.0f} : \\t Loss = {total_loss:2.4f} \\t Accuracy = {total_acc:2.4f} \\t \\t {elapsed_time:8.4f} seconds\")"
   ]
  },
  {
   "cell_type": "code",
   "execution_count": null,
   "metadata": {},
   "outputs": [],
   "source": [
    "# Accuracy on Train Set\n",
    "outputs = neuralNet(X_train_tensor)\n",
    "\n",
    "# Find the maximum probability class\n",
    "_, y_pred_train = torch.max(outputs, 1)\n",
    "\n",
    "# Check if they match the actual class\n",
    "correct = (y_pred_train == y_train_tensor.squeeze()).sum().item()\n",
    "print(\"Clasification Accuracy : \\t\", correct / len(y_train_tensor))"
   ]
  },
  {
   "cell_type": "code",
   "execution_count": null,
   "metadata": {},
   "outputs": [],
   "source": [
    "# Accuracy on Test Set\n",
    "outputs = neuralNet(X_test_tensor)\n",
    "\n",
    "# Find the maximum probability class\n",
    "_, y_pred_test = torch.max(outputs, 1)\n",
    "\n",
    "# Check if they match the actual class\n",
    "correct = (y_pred_test == y_test_tensor.squeeze()).sum().item()\n",
    "print(\"Clasification Accuracy : \\t\", correct / len(y_test_tensor))"
   ]
  },
  {
   "cell_type": "code",
   "execution_count": null,
   "metadata": {
    "scrolled": true
   },
   "outputs": [],
   "source": [
    "# Define the layers\n",
    "input_size = 26        # Dimension of Predictors\n",
    "hidden_sizes = [32, 32]  # Dimension of Hidden Layers\n",
    "output_size = 2          # Dimension of Response\n",
    "\n",
    "# Build a feed-forward network\n",
    "neuralNet = torch.nn.Sequential(torch.nn.Linear(input_size, hidden_sizes[0]),\n",
    "                                torch.nn.ReLU(),\n",
    "                                torch.nn.Linear(hidden_sizes[0], hidden_sizes[1]),\n",
    "                                torch.nn.ReLU(),\n",
    "                                torch.nn.Linear(hidden_sizes[1], output_size),\n",
    "                                torch.nn.LogSoftmax(dim=1))\n",
    "\n",
    "# Print the NeuralNet structure\n",
    "print(neuralNet)"
   ]
  },
  {
   "cell_type": "code",
   "execution_count": null,
   "metadata": {},
   "outputs": [],
   "source": [
    "# Time the Training\n",
    "import time\n",
    "start = time.time()\n",
    "\n",
    "# Set Hyperparameters\n",
    "batch_size = 100\n",
    "num_epochs = 100\n",
    "\n",
    "# Set the Optimization Criterion\n",
    "criterion = torch.nn.CrossEntropyLoss()\n",
    "\n",
    "# Set Learning Parameter\n",
    "learning_rate = 0.05\n",
    "\n",
    "\n",
    "# Iterate for number of Epochs\n",
    "for epoch in range(1, num_epochs + 1):\n",
    "    \n",
    "    # Decrease learning rate strategically\n",
    "    if epoch % 10 == 0: \n",
    "        learning_rate = learning_rate / 1.5\n",
    "        \n",
    "    # Create a new optimizer at the start of each epoch\n",
    "    # Input the learning rate specified for this epoch\n",
    "    optimizer = torch.optim.SGD(neuralNet.parameters(), lr = learning_rate)\n",
    "    \n",
    "    # Keep tab of cumulative loss\n",
    "    running_loss = 0\n",
    "    num_batches = 0\n",
    "    correct = 0\n",
    "    \n",
    "    # Count the Number of Batches\n",
    "    shuffled_indices = torch.randperm(len(X_train.index))\n",
    " \n",
    "    for idx in range(0, len(X_train.index), batch_size):\n",
    "        \n",
    "        # Extract the data for the batch\n",
    "        batch_indices = shuffled_indices[idx : idx + batch_size]\n",
    "        X_batch_tensor = X_train_tensor[batch_indices]\n",
    "        y_batch_tensor = y_train_tensor[batch_indices]\n",
    "        \n",
    "        # Clear Optimizer Gradients\n",
    "        optimizer.zero_grad()\n",
    "\n",
    "        # Forward Propagation for Prediction\n",
    "        outputs = neuralNet(X_batch_tensor)\n",
    "\n",
    "        # Calculate the Loss\n",
    "        loss = criterion(outputs, y_batch_tensor.squeeze())\n",
    "\n",
    "        # Calculate correct predictions\n",
    "        _, y_pred_batch = torch.max(outputs, 1)\n",
    "        correct += (y_pred_batch == y_batch_tensor.squeeze()).sum().item()\n",
    "\n",
    "        # Back Propagation for Gradients\n",
    "        loss.backward()\n",
    "\n",
    "        # Update Parameters by Gradients\n",
    "        optimizer.step()\n",
    "        \n",
    "        # Keeping tab of cumulative loss\n",
    "        running_loss += loss.detach().item()\n",
    "        num_batches += 1\n",
    "    \n",
    "    # At the end of an Epoch\n",
    "    total_loss = running_loss / num_batches\n",
    "    total_acc = correct / len(X_train.index)\n",
    "    elapsed_time = time.time() - start\n",
    "    \n",
    "    if epoch % 10 == 0: \n",
    "        print(f\"Epoch {epoch:3.0f} : \\t Loss = {total_loss:2.4f} \\t Accuracy = {total_acc:2.4f} \\t \\t {elapsed_time:8.4f} seconds\")    "
   ]
  },
  {
   "cell_type": "code",
   "execution_count": null,
   "metadata": {},
   "outputs": [],
   "source": [
    "# Accuracy on Train Set\n",
    "outputs = neuralNet(X_train_tensor)\n",
    "\n",
    "# Find the maximum probability class\n",
    "_, y_pred_train = torch.max(outputs, 1)\n",
    "\n",
    "# Check if they match the actual class\n",
    "correct = (y_pred_train == y_train_tensor.squeeze()).sum().item()\n",
    "print(\"Clasification Accuracy : \\t\", correct / len(y_train_tensor))"
   ]
  },
  {
   "cell_type": "code",
   "execution_count": null,
   "metadata": {
    "scrolled": true
   },
   "outputs": [],
   "source": [
    "# Accuracy on Test Set\n",
    "outputs = neuralNet(X_test_tensor)\n",
    "\n",
    "# Find the maximum probability class\n",
    "_, y_pred_test = torch.max(outputs, 1)\n",
    "\n",
    "# Check if they match the actual class\n",
    "correct = (y_pred_test == y_test_tensor.squeeze()).sum().item()\n",
    "print(\"Clasification Accuracy : \\t\", correct / len(y_test_tensor))"
   ]
  },
  {
   "cell_type": "markdown",
   "metadata": {},
   "source": [
    "We can see that the first Neural Network model performs best in general (for both train and test set) in comparison to the iterative Neural Network and Deeper Neural Network models. This might be caused by the overfitting in the second and the third model. Therefore, we will now try to use the first model to fit the selected predictors from the feature importance analysis obtained previously."
   ]
  },
  {
   "cell_type": "markdown",
   "metadata": {},
   "source": [
    "### Using ['Adventure', 'Runtime (mins)', 'Year'] as predictors"
   ]
  },
  {
   "cell_type": "code",
   "execution_count": null,
   "metadata": {},
   "outputs": [],
   "source": [
    "# keeping only numeric columns (or the columns encoded into binary values)\n",
    "X2 = X[['Adventure', 'Runtime (mins)', 'Year']]\n",
    "X2.dtypes\n",
    "\n",
    "# choosing the world sales as the response variable\n",
    "y = pd.DataFrame(df2['Sales Goodness'])\n",
    "\n",
    "# performing the train test split\n",
    "X_train, X_test, y_train, y_test = train_test_split(X2, y, test_size = 0.25, random_state = 30)"
   ]
  },
  {
   "cell_type": "code",
   "execution_count": null,
   "metadata": {},
   "outputs": [],
   "source": [
    "# Check the sample sizes\n",
    "print(\"Train Set :\", X_train.shape, y_train.shape)\n",
    "print(\"Test Set  :\", X_test.shape, y_test.shape)"
   ]
  },
  {
   "cell_type": "code",
   "execution_count": null,
   "metadata": {},
   "outputs": [],
   "source": [
    "# Import the PyTorch essentials\n",
    "import torch\n",
    "\n",
    "# Convert the datasets to Tensors\n",
    "X_train_tensor = torch.from_numpy(X_train.values).type(torch.float32)         # data type float\n",
    "y_train_tensor = torch.from_numpy(y_train.values).type(torch.LongTensor)      # data type long\n",
    "X_test_tensor = torch.from_numpy(X_test.values).type(torch.float32)           # data type float\n",
    "y_test_tensor = torch.from_numpy(y_test.values).type(torch.LongTensor)        # data type long\n",
    "\n",
    "# Check the tensor format of data\n",
    "print(\"Tensor Predictor : \\t\", X_train_tensor.shape)\n",
    "print(\"Tensor Response : \\t\", y_train_tensor.shape)"
   ]
  },
  {
   "cell_type": "code",
   "execution_count": null,
   "metadata": {
    "scrolled": true
   },
   "outputs": [],
   "source": [
    "# Define the layers\n",
    "input_size = 3        # Dimension of Predictors\n",
    "output_size = 2        # Dimension of Response\n",
    "\n",
    "# Build a feed-forward network\n",
    "neuralNet = torch.nn.Sequential(torch.nn.Linear(input_size, output_size),\n",
    "                                torch.nn.LogSoftmax(dim = 1))\n",
    "\n",
    "# Print the NeuralNet structure\n",
    "print(neuralNet)\n",
    "print()\n",
    "\n",
    "# Print the NeuralNet parameters\n",
    "list(neuralNet.parameters())"
   ]
  },
  {
   "cell_type": "code",
   "execution_count": null,
   "metadata": {},
   "outputs": [],
   "source": [
    "# Set the Optimization Criterion\n",
    "criterion = torch.nn.CrossEntropyLoss()\n",
    "\n",
    "# Set the Optimization Technique\n",
    "learning_rate = 0.01\n",
    "optimizer = torch.optim.SGD(neuralNet.parameters(), lr = learning_rate)"
   ]
  },
  {
   "cell_type": "code",
   "execution_count": null,
   "metadata": {},
   "outputs": [],
   "source": [
    "# Clear Optimizer Gradients\n",
    "optimizer.zero_grad()\n",
    "        \n",
    "# Forward Propagation for Prediction\n",
    "outputs = neuralNet(X_train_tensor)\n",
    "print(\"Predictions\\n\", outputs)\n",
    "print()\n",
    "\n",
    "# Calculate the Loss\n",
    "loss = criterion(outputs, y_train_tensor.squeeze())\n",
    "print(\"Prediction Loss : \\t\", loss)"
   ]
  },
  {
   "cell_type": "code",
   "execution_count": null,
   "metadata": {},
   "outputs": [],
   "source": [
    "# Check the Weights\n",
    "print('Weights before Back Propagation')\n",
    "print()\n",
    "print(neuralNet[0].weight)\n",
    "print()\n",
    "\n",
    "# Back Propagation for Gradients\n",
    "loss.backward()"
   ]
  },
  {
   "cell_type": "code",
   "execution_count": null,
   "metadata": {},
   "outputs": [],
   "source": [
    "# Check the Gradients\n",
    "print('Gradients from Back Propagation')\n",
    "print()\n",
    "print(neuralNet[0].weight.grad)\n",
    "print()"
   ]
  },
  {
   "cell_type": "code",
   "execution_count": null,
   "metadata": {},
   "outputs": [],
   "source": [
    "# Update Parameters by Gradients\n",
    "optimizer.step()\n",
    "\n",
    "# Check the Weights\n",
    "print('Weights after Back Propagation')\n",
    "print()\n",
    "print(neuralNet[0].weight)"
   ]
  },
  {
   "cell_type": "code",
   "execution_count": null,
   "metadata": {},
   "outputs": [],
   "source": [
    "# Forward Propagation for Prediction\n",
    "outputs = neuralNet(X_train_tensor)\n",
    "print(\"Predictions\\n\", outputs)\n",
    "print()\n",
    "\n",
    "# Calculate the Loss\n",
    "loss = criterion(outputs, y_train_tensor.squeeze())\n",
    "print(\"Prediction Loss : \\t\", loss)"
   ]
  },
  {
   "cell_type": "code",
   "execution_count": null,
   "metadata": {},
   "outputs": [],
   "source": [
    "# Accuracy on Train Set\n",
    "outputs = neuralNet(X_train_tensor)\n",
    "\n",
    "# Find the maximum probability class\n",
    "_, y_pred_train = torch.max(outputs, 1)\n",
    "\n",
    "# Check if they match the actual class\n",
    "correct = (y_pred_train == y_train_tensor.squeeze()).sum().item()\n",
    "print(\"Classification Accuracy : \\t\", correct / len(y_train_tensor))"
   ]
  },
  {
   "cell_type": "code",
   "execution_count": null,
   "metadata": {
    "scrolled": true
   },
   "outputs": [],
   "source": [
    "# Accuracy on Test Set\n",
    "outputs = neuralNet(X_test_tensor)\n",
    "\n",
    "# Find the maximum probability class\n",
    "_, y_pred_test = torch.max(outputs, 1)\n",
    "\n",
    "# Check if they match the actual class\n",
    "correct = (y_pred_test == y_test_tensor.squeeze()).sum().item()\n",
    "print(\"Classification Accuracy : \\t\", correct / len(y_test_tensor))"
   ]
  },
  {
   "cell_type": "markdown",
   "metadata": {},
   "source": [
    "We can see that both train set and test set achieved accuracy of 50%. This model is not too bad but not good either. However, it is obviously better that the previous regressor models done with linear regression, random forest, and gradient boosting. This might suggest that the model doesn't perform well with regressor models. This is one good finding if we want to construct a better model in the future. A better model on movie sales prediction might be achieved with a more suitable function fitting and better data engineering."
   ]
  },
  {
   "cell_type": "markdown",
   "metadata": {},
   "source": [
    "## Merging the data with the other dataset to get more variables"
   ]
  },
  {
   "cell_type": "code",
   "execution_count": null,
   "metadata": {},
   "outputs": [],
   "source": [
    "ratingsDf = pd.read_csv('title.ratings.tsv', delimiter='\\t')\n",
    "basicsDf = pd.read_csv('title.basics.tsv', delimiter='\\t')\n",
    "imdb = pd.merge(basicsDf, ratingsDf, on='tconst')[['primaryTitle', 'originalTitle', 'averageRating']]\n",
    "imdb.head()"
   ]
  },
  {
   "cell_type": "code",
   "execution_count": null,
   "metadata": {
    "scrolled": true
   },
   "outputs": [],
   "source": [
    "dfTemp = pd.merge(df, imdb, left_on='Title', right_on='primaryTitle', how='left')\n",
    "dfTemp.isna().sum()"
   ]
  },
  {
   "cell_type": "markdown",
   "metadata": {},
   "source": [
    "We can see that the number of null values is incredibly high. This might be caused of the different data sources and therefore the naming of the title (such as the punctuation) might be different. We will however continue to build our model to see if we can extract any useful insight from here."
   ]
  },
  {
   "cell_type": "code",
   "execution_count": null,
   "metadata": {},
   "outputs": [],
   "source": [
    "dfTemp = pd.merge(df, imdb, left_on='Title', right_on='primaryTitle')\n",
    "dfTemp.head()"
   ]
  },
  {
   "cell_type": "code",
   "execution_count": null,
   "metadata": {},
   "outputs": [],
   "source": [
    "ratings = pd.DataFrame(dfTemp['averageRating'])\n",
    "sales = pd.DataFrame(dfTemp['World Sales (in $)'])\n",
    "\n",
    "# split the dataset into train and test set\n",
    "X_train, X_test, y_train, y_test = train_test_split(ratings, sales, test_size = 0.20, random_state = 5)\n",
    "\n",
    "# perform Linear Regression\n",
    "linreg = LinearRegression()\n",
    "linreg.fit(X_train, y_train)\n",
    "\n",
    "# coefficients of the Linear Regression line\n",
    "coef = linreg.coef_[0][0]\n",
    "intercept = linreg.intercept_[0]\n",
    "print(\"Coefficient:\", coef)\n",
    "print(\"Intercept:\", intercept)"
   ]
  },
  {
   "cell_type": "code",
   "execution_count": null,
   "metadata": {},
   "outputs": [],
   "source": [
    "plt.scatter(ratings, sales)\n",
    "plt.xlabel(\"Average Ratings\")\n",
    "plt.ylabel(\"World Sales ($)\")\n",
    "plt.show()"
   ]
  },
  {
   "cell_type": "code",
   "execution_count": null,
   "metadata": {
    "scrolled": true
   },
   "outputs": [],
   "source": [
    "# predict World Sales corresponding to Movie Runtime\n",
    "y_train_pred = linreg.predict(X_train)\n",
    "y_test_pred = linreg.predict(X_test)\n",
    "\n",
    "# Plot the regression line\n",
    "f, axes = plt.subplots(1, 2, figsize=(24, 12))\n",
    "axes[0].scatter(X_train, y_train, label = 'Actual data')\n",
    "axes[0].plot(X_train, y_train_pred, color = \"red\", label = 'Regression line')\n",
    "axes[0].set_xlabel(\"Runtime (mins)\")\n",
    "axes[0].set_ylabel(\"World Sales ($)\")\n",
    "axes[0].title.set_text('Plot of Train Set')\n",
    "axes[1].scatter(X_test, y_test)\n",
    "axes[1].plot(X_test, y_test_pred, color = \"red\")\n",
    "axes[1].set_xlabel(\"Runtime (mins)\")\n",
    "axes[1].set_ylabel(\"World Sales ($)\")\n",
    "axes[1].title.set_text('Plot of Test Set')\n",
    "f.legend(loc='upper right')\n",
    "plt.show()"
   ]
  },
  {
   "cell_type": "code",
   "execution_count": null,
   "metadata": {},
   "outputs": [],
   "source": [
    "# check the goodness of the model fit on train set\n",
    "print(\"Goodness of fit of the model on train set\")\n",
    "print(\"Explained Variance (R^2):\", linreg.score(X_train, y_train))\n",
    "print(\"Mean Squared Error (MSE):\", mean_squared_error(y_train, y_train_pred))\n",
    "print(\"Root Mean Squared Error (RMSE):\", np.sqrt(mean_squared_error(y_train, y_train_pred)))\n",
    "print(\"\\n\")\n",
    "\n",
    "# calculate the accuracy of the model fit on test set\n",
    "print(\"Prediction accuracy of the model on test set\")\n",
    "print(\"Explained Variance (R^2):\", linreg.score(X_test, y_test))\n",
    "print(\"Mean Squared Error (MSE):\", mean_squared_error(y_test, y_test_pred))\n",
    "print(\"Root Mean Squared Error (RMSE):\", np.sqrt(mean_squared_error(y_test, y_test_pred)))"
   ]
  },
  {
   "cell_type": "markdown",
   "metadata": {},
   "source": [
    "As we expected, the model performs pretty badly for this dataset. We can argue that the main reason is due to the lack of the data points. Besides, it might also be caused that ratings is not actually a good predictor of the movie sales. A larger sample size is required to define the exact relationship between the two variables."
   ]
  },
  {
   "cell_type": "markdown",
   "metadata": {},
   "source": [
    "## Building different kind of models: predictive models of other variables using sales as predictors"
   ]
  },
  {
   "cell_type": "markdown",
   "metadata": {},
   "source": [
    "In this section, we want to do something different from the previous prediction model. Instead of using the other variables as predictors to predict world sales, in this section we want to use the sales columns to predict other variables such as Genre, Lisence, and Distributor. Since these variables are categorical in nature, we will need to perform encoding on these variables first. The algorithms that we will be using are XGBoost and Random Forest. In the end, we will compare the results obtained from these two algorithms."
   ]
  },
  {
   "cell_type": "code",
   "execution_count": null,
   "metadata": {},
   "outputs": [],
   "source": [
    "# importing the required libraries\n",
    "import xgboost\n",
    "from xgboost import XGBRegressor\n",
    "from xgboost import XGBClassifier\n",
    "from sklearn.impute import SimpleImputer\n",
    "from sklearn.pipeline import make_pipeline \n",
    "from sklearn.preprocessing import OneHotEncoder, MaxAbsScaler,StandardScaler\n",
    "from sklearn.compose import make_column_transformer\n",
    "from sklearn.model_selection import cross_val_score, KFold, train_test_split\n",
    "from sklearn.metrics import mean_absolute_error"
   ]
  },
  {
   "cell_type": "code",
   "execution_count": null,
   "metadata": {},
   "outputs": [],
   "source": [
    "# extracting the data of the distributors\n",
    "x = pd.DataFrame(df['Distributor'])\n",
    "xx=pd.DataFrame(x.drop_duplicates(subset=None, keep='first', inplace=False, ignore_index=False))\n",
    "xx"
   ]
  },
  {
   "cell_type": "code",
   "execution_count": null,
   "metadata": {},
   "outputs": [],
   "source": [
    "# extracting the data of the genre\n",
    "y = pd.DataFrame(df['Genre'])\n",
    "yy=pd.DataFrame(y.drop_duplicates(subset=None, keep='first', inplace=False, ignore_index=False))\n",
    "yy.dtypes"
   ]
  },
  {
   "cell_type": "code",
   "execution_count": null,
   "metadata": {},
   "outputs": [],
   "source": [
    "# extracting the data of the license\n",
    "z = pd.DataFrame(df['License'])\n",
    "zz=pd.DataFrame(z.drop_duplicates(subset=None, keep='first', inplace=False, ignore_index=False))\n",
    "zz"
   ]
  },
  {
   "cell_type": "code",
   "execution_count": null,
   "metadata": {},
   "outputs": [],
   "source": [
    "# extracting the predictors (domestic and international sales)\n",
    "df_final = pd.concat([df['Domestic Sales (in $)'], df['International Sales (in $)']],axis=1)\n",
    "df_final"
   ]
  },
  {
   "cell_type": "code",
   "execution_count": null,
   "metadata": {},
   "outputs": [],
   "source": [
    "# converting the data type of the object\n",
    "df['Distributor'] = df['Distributor'].astype('category')\n",
    "df['Distributor'].dtypes"
   ]
  },
  {
   "cell_type": "code",
   "execution_count": null,
   "metadata": {},
   "outputs": [],
   "source": [
    "# encoding the distributor column\n",
    "df['Distributor'] = df['Distributor'].cat.codes\n",
    "df['Distributor'].head()"
   ]
  },
  {
   "cell_type": "code",
   "execution_count": null,
   "metadata": {},
   "outputs": [],
   "source": [
    "# converting the data type of the object\n",
    "df['Genre'] = df['Genre'].astype('category')\n",
    "df['Genre'].dtypes"
   ]
  },
  {
   "cell_type": "code",
   "execution_count": null,
   "metadata": {
    "scrolled": true
   },
   "outputs": [],
   "source": [
    "# encoding the genre column\n",
    "df['Genre'] = df['Genre'].cat.codes\n",
    "df['Genre'].head()"
   ]
  },
  {
   "cell_type": "code",
   "execution_count": null,
   "metadata": {},
   "outputs": [],
   "source": [
    "# converting the data type of the object\n",
    "df['License'] = df['License'].astype('category')\n",
    "df['License'].dtypes"
   ]
  },
  {
   "cell_type": "code",
   "execution_count": null,
   "metadata": {},
   "outputs": [],
   "source": [
    "# encoding the license column\n",
    "df['License'] = df['License'].cat.codes\n",
    "df['License'].head()"
   ]
  },
  {
   "cell_type": "markdown",
   "metadata": {},
   "source": [
    "### Predicting Distributors"
   ]
  },
  {
   "cell_type": "markdown",
   "metadata": {},
   "source": [
    "####  XGBoost"
   ]
  },
  {
   "cell_type": "code",
   "execution_count": null,
   "metadata": {},
   "outputs": [],
   "source": [
    "# encoding the sales columns\n",
    "x= df_final\n",
    "y=(df['Distributor'])\n",
    "preprocessor=make_column_transformer(\n",
    "    (OneHotEncoder(),['Domestic Sales (in $)']),\n",
    "    (SimpleImputer(strategy='median'), [df_final])\n",
    ")"
   ]
  },
  {
   "cell_type": "code",
   "execution_count": null,
   "metadata": {},
   "outputs": [],
   "source": [
    "x.dtypes"
   ]
  },
  {
   "cell_type": "code",
   "execution_count": null,
   "metadata": {},
   "outputs": [],
   "source": [
    "# performing transformation and scaling on the model predictors\n",
    "x_train, x_test, y_train, y_test = train_test_split(x, y, train_size=0.8, test_size=0.2,random_state=32)\n",
    "scaler = MaxAbsScaler()\n",
    "x5_train = scaler.fit_transform(x_train)\n",
    "x5_test = scaler.transform(x_test)"
   ]
  },
  {
   "cell_type": "code",
   "execution_count": null,
   "metadata": {},
   "outputs": [],
   "source": [
    "# fitting the model\n",
    "xgbmodel = XGBRegressor(n_estimators=919, learning_rate=0.05, n_jobs=4)\n",
    "xgbmodel.fit(x_train, y_train, \n",
    "             early_stopping_rounds=5, \n",
    "             eval_set=[(x_test, y_test)],\n",
    "             verbose=False)\n",
    "xgbmodel.fit(x_train, y_train)\n",
    "predictions=xgbmodel.predict(x_test)\n",
    "mae=mean_absolute_error(predictions, y_test)"
   ]
  },
  {
   "cell_type": "code",
   "execution_count": null,
   "metadata": {},
   "outputs": [],
   "source": [
    "kfold = KFold(n_splits=10, shuffle=True)\n",
    "results=cross_val_score(xgbmodel,x,y, cv=kfold)"
   ]
  },
  {
   "cell_type": "code",
   "execution_count": null,
   "metadata": {
    "scrolled": true
   },
   "outputs": [],
   "source": [
    "# displaying the model accuracy\n",
    "print(\"XGBRegressor Accuracy: %.2f%% (std: %.2f%%), Mean Absolute Error in Model %.2f\" % (results.mean()*100, results.std()*100, mae))"
   ]
  },
  {
   "cell_type": "markdown",
   "metadata": {},
   "source": [
    "#### Random Forest"
   ]
  },
  {
   "cell_type": "code",
   "execution_count": null,
   "metadata": {},
   "outputs": [],
   "source": [
    "# fitting the model\n",
    "from sklearn.ensemble import RandomForestRegressor\n",
    "\n",
    "regressor = RandomForestRegressor(n_estimators=900, random_state=0)\n",
    "regressor.fit(x,np.ravel(y,order=\"c\"))\n",
    "\n",
    "y_pred = regressor.predict(x_test)"
   ]
  },
  {
   "cell_type": "code",
   "execution_count": null,
   "metadata": {},
   "outputs": [],
   "source": [
    "# evaluating the model error\n",
    "print(\"Random Forest Regressor's  Mean Absolute Error: \" + str(mean_absolute_error(y_pred, y_test)))"
   ]
  },
  {
   "cell_type": "markdown",
   "metadata": {},
   "source": [
    "### Predicting Genre"
   ]
  },
  {
   "cell_type": "markdown",
   "metadata": {},
   "source": [
    "#### XGBoost"
   ]
  },
  {
   "cell_type": "code",
   "execution_count": null,
   "metadata": {},
   "outputs": [],
   "source": [
    "x= df_final\n",
    "y=(df['Genre'])\n",
    "preprocessor=make_column_transformer(\n",
    "    (OneHotEncoder(),['Domestic Sales (in $)']),\n",
    "    (SimpleImputer(strategy='median'), [df_final])\n",
    ")"
   ]
  },
  {
   "cell_type": "code",
   "execution_count": null,
   "metadata": {},
   "outputs": [],
   "source": [
    "x_train, x_test, y_train, y_test = train_test_split(x, y, train_size=0.8, test_size=0.2,random_state=32)\n",
    "scaler = MaxAbsScaler()\n",
    "x5_train = scaler.fit_transform(x_train)\n",
    "x5_test = scaler.transform(x_test)"
   ]
  },
  {
   "cell_type": "code",
   "execution_count": null,
   "metadata": {},
   "outputs": [],
   "source": [
    "xgbmodel = XGBRegressor(n_estimators=919, learning_rate=0.05, n_jobs=4)\n",
    "xgbmodel.fit(x_train, y_train, \n",
    "             early_stopping_rounds=5, \n",
    "             eval_set=[(x_test, y_test)],\n",
    "             verbose=False)\n",
    "xgbmodel.fit(x_train, y_train)\n",
    "predictions=xgbmodel.predict(x_test)\n",
    "mae=mean_absolute_error(predictions, y_test)"
   ]
  },
  {
   "cell_type": "code",
   "execution_count": null,
   "metadata": {},
   "outputs": [],
   "source": [
    "kfold = KFold(n_splits=10, shuffle=True)\n",
    "results=cross_val_score(xgbmodel,x,y, cv=kfold)"
   ]
  },
  {
   "cell_type": "code",
   "execution_count": null,
   "metadata": {},
   "outputs": [],
   "source": [
    "print(\"XGBRegressor Accuracy: %.2f%% (std: %.2f%%), Mean Absolute Error in Model %.2f\" % (results.mean()*100, results.std()*100, mae))"
   ]
  },
  {
   "cell_type": "markdown",
   "metadata": {},
   "source": [
    "#### Random Forest"
   ]
  },
  {
   "cell_type": "code",
   "execution_count": null,
   "metadata": {},
   "outputs": [],
   "source": [
    "from sklearn.ensemble import RandomForestRegressor\n",
    "\n",
    "regressor = RandomForestRegressor(n_estimators=900, random_state=0)\n",
    "regressor.fit(x,np.ravel(y,order=\"c\"))\n",
    "\n",
    "y_pred = regressor.predict(x_test)"
   ]
  },
  {
   "cell_type": "code",
   "execution_count": null,
   "metadata": {},
   "outputs": [],
   "source": [
    "print(\"Random Forest Regressor's  Mean Absolute Error: \" + str(mean_absolute_error(y_pred, y_test)))"
   ]
  },
  {
   "cell_type": "markdown",
   "metadata": {},
   "source": [
    "### Predicting License"
   ]
  },
  {
   "cell_type": "markdown",
   "metadata": {},
   "source": [
    "#### XGBoost"
   ]
  },
  {
   "cell_type": "code",
   "execution_count": null,
   "metadata": {},
   "outputs": [],
   "source": [
    "x= df_final\n",
    "y=(df['License'])\n",
    "preprocessor=make_column_transformer(\n",
    "    (OneHotEncoder(),['Domestic Sales (in $)']),\n",
    "    (SimpleImputer(strategy='median'), [df_final])\n",
    ")"
   ]
  },
  {
   "cell_type": "code",
   "execution_count": null,
   "metadata": {},
   "outputs": [],
   "source": [
    "x_train, x_test, y_train, y_test = train_test_split(x, y, train_size=0.8, test_size=0.2,random_state=32)\n",
    "scaler = MaxAbsScaler()\n",
    "x5_train = scaler.fit_transform(x_train)\n",
    "x5_test = scaler.transform(x_test)"
   ]
  },
  {
   "cell_type": "code",
   "execution_count": null,
   "metadata": {},
   "outputs": [],
   "source": [
    "xgbmodel = XGBRegressor(n_estimators=919, learning_rate=0.05, n_jobs=4)\n",
    "xgbmodel.fit(x_train, y_train, \n",
    "             early_stopping_rounds=5, \n",
    "             eval_set=[(x_test, y_test)],\n",
    "             verbose=False)\n",
    "xgbmodel.fit(x_train, y_train)\n",
    "predictions=xgbmodel.predict(x_test)\n",
    "mae=mean_absolute_error(predictions, y_test)"
   ]
  },
  {
   "cell_type": "code",
   "execution_count": null,
   "metadata": {},
   "outputs": [],
   "source": [
    "kfold = KFold(n_splits=10, shuffle=True)\n",
    "results=cross_val_score(xgbmodel,x,y, cv=kfold)"
   ]
  },
  {
   "cell_type": "code",
   "execution_count": null,
   "metadata": {},
   "outputs": [],
   "source": [
    "print(\"XGBRegressor Accuracy: %.2f%% (std: %.2f%%), Mean Absolute Error in Model %.2f\" % (results.mean()*100, results.std()*100, mae))"
   ]
  },
  {
   "cell_type": "markdown",
   "metadata": {},
   "source": [
    "#### Random Forest"
   ]
  },
  {
   "cell_type": "code",
   "execution_count": null,
   "metadata": {},
   "outputs": [],
   "source": [
    "from sklearn.ensemble import RandomForestRegressor\n",
    "\n",
    "regressor = RandomForestRegressor(n_estimators=900, random_state=0)\n",
    "regressor.fit(x,np.ravel(y,order=\"c\"))\n",
    "\n",
    "y_pred = regressor.predict(x_test)"
   ]
  },
  {
   "cell_type": "code",
   "execution_count": null,
   "metadata": {},
   "outputs": [],
   "source": [
    "print(\"Random Forest Regressor's  Mean Absolute Error: \" + str(mean_absolute_error(y_pred, y_test)))"
   ]
  },
  {
   "cell_type": "markdown",
   "metadata": {},
   "source": [
    "These results don't suggest a positive outcome because the Xgboost algorithm relies on the relation between variables on gradient analysis. The outcome is not very good because in this dataset, the discrepancy among movies is very high; hence, it is expected that the gradient learning would not be close to a linear relation. However, this doesn't diminish the calculated outcome because it conveys the variable relation very precisely along with the mean error in the model to establish the level of credibility that this model accounts for.  "
   ]
  },
  {
   "cell_type": "markdown",
   "metadata": {},
   "source": [
    "The results for the Random Forest analysis are more encouraging for 'Distributor' and 'License' variable because the mean error is very low (0.4, 2.75), suggesting a good model. Although, with 'Genre' the model is not good because it has a low range of values and a lot of missing values which contribute to the discrepancies present in the model. "
   ]
  }
 ],
 "metadata": {
  "kernelspec": {
   "display_name": "Python 3",
   "language": "python",
   "name": "python3"
  },
  "language_info": {
   "codemirror_mode": {
    "name": "ipython",
    "version": 3
   },
   "file_extension": ".py",
   "mimetype": "text/x-python",
   "name": "python",
   "nbconvert_exporter": "python",
   "pygments_lexer": "ipython3",
   "version": "3.8.5"
  }
 },
 "nbformat": 4,
 "nbformat_minor": 4
}
